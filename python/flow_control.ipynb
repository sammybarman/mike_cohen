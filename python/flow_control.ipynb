{
 "cells": [
  {
   "cell_type": "code",
   "execution_count": 2,
   "metadata": {},
   "outputs": [
    {
     "name": "stdout",
     "output_type": "stream",
     "text": [
      "Positive\n"
     ]
    }
   ],
   "source": [
    "#if-else\n",
    "\n",
    "import numpy as np\n",
    "\n",
    "randNum = np.random.randn()\n",
    "if randNum > 0:\n",
    "    print(\"Positive\")"
   ]
  },
  {
   "cell_type": "code",
   "execution_count": 3,
   "metadata": {},
   "outputs": [
    {
     "name": "stdout",
     "output_type": "stream",
     "text": [
      "No cake, you're healthy\n"
     ]
    }
   ],
   "source": [
    "cakeType = \"None\"\n",
    "\n",
    "if cakeType == \"Chocolate\":\n",
    "    print(\"Chocolate cake\")\n",
    "elif cakeType == \"Vanilla\":\n",
    "    print(\"Vanilla cake\")\n",
    "else:\n",
    "    print(\"No cake, you're healthy\")"
   ]
  },
  {
   "cell_type": "code",
   "execution_count": 9,
   "metadata": {},
   "outputs": [
    {
     "name": "stdout",
     "output_type": "stream",
     "text": [
      "Chocolate cake\n"
     ]
    }
   ],
   "source": [
    "#one line if statements\n",
    "caketype1 = \"Chocolate\"\n",
    "print(\"Chocolate cake\") if caketype1[0] == \"C\" else print(\"No cake, you're healthy\")"
   ]
  },
  {
   "cell_type": "code",
   "execution_count": 10,
   "metadata": {},
   "outputs": [
    {
     "name": "stdout",
     "output_type": "stream",
     "text": [
      "Chocolate and Vanilla cake\n"
     ]
    }
   ],
   "source": [
    "#conjunctive conditional\n",
    "cakeType2 = \"Chocolate\"\n",
    "cakeType3 = \"Vanilla\"\n",
    "if cakeType2 == \"Chocolate\" and cakeType3 == \"Vanilla\":\n",
    "    print(\"Chocolate and Vanilla cake\")\n",
    "else:\n",
    "    print(\"No cake, you're healthy\")"
   ]
  },
  {
   "cell_type": "code",
   "execution_count": 12,
   "metadata": {},
   "outputs": [
    {
     "name": "stdout",
     "output_type": "stream",
     "text": [
      "32\n",
      "32\n"
     ]
    }
   ],
   "source": [
    "#Exercise \n",
    "#create a dot product function\n",
    "#function checks if both inputs are numpy arrays\n",
    "#function checks for same length of input arrays\n",
    "#function returns dot product of input arrays\n",
    "\n",
    "def dotProduct(x,y):\n",
    "    if type(x) == np.ndarray and type(y) == np.ndarray:\n",
    "        if len(x) == len(y):\n",
    "            return sum(x*y)\n",
    "        else:\n",
    "            print(\"Arrays are not the same length\")\n",
    "    else:\n",
    "        print(\"One or both inputs are not numpy arrays\")\n",
    "\n",
    "x = np.array([1,2,3])\n",
    "y = np.array([4,5,6])\n",
    "print(dotProduct(x,y))\n",
    "print(np.dot(x,y))"
   ]
  },
  {
   "cell_type": "code",
   "execution_count": 13,
   "metadata": {},
   "outputs": [
    {
     "name": "stdout",
     "output_type": "stream",
     "text": [
      "0\n",
      "1\n",
      "2\n",
      "3\n",
      "4\n"
     ]
    }
   ],
   "source": [
    "#for loop\n",
    "for i in range(5):\n",
    "    print(i)\n"
   ]
  },
  {
   "cell_type": "code",
   "execution_count": 15,
   "metadata": {},
   "outputs": [
    {
     "name": "stdout",
     "output_type": "stream",
     "text": [
      "3.0\n",
      "4.076923076923077\n",
      "5.153846153846153\n",
      "6.230769230769231\n",
      "7.3076923076923075\n",
      "8.384615384615383\n",
      "9.461538461538462\n",
      "10.538461538461538\n",
      "11.615384615384615\n",
      "12.692307692307692\n",
      "13.769230769230768\n",
      "14.846153846153845\n",
      "15.923076923076923\n",
      "17.0\n"
     ]
    }
   ],
   "source": [
    "import numpy as np\n",
    "\n",
    "numbers = np.linspace(3,17,14)\n",
    "\n",
    "for i in numbers:\n",
    "    print(i)"
   ]
  },
  {
   "cell_type": "code",
   "execution_count": 16,
   "metadata": {},
   "outputs": [],
   "source": [
    "#softcoding vs hardcoding\n",
    "#softcoding is using variables instead of hardcoding values\n",
    "#hardcoding is using values directly in code\n",
    "\n",
    "for i in range(100):\n",
    "    pass \n",
    "\n",
    "#vs\n",
    "\n",
    "aVar = 100\n",
    "for i in range(aVar):\n",
    "    pass\n",
    "\n",
    "#avoid hardcoding values\n",
    "\n"
   ]
  },
  {
   "cell_type": "code",
   "execution_count": 19,
   "metadata": {},
   "outputs": [],
   "source": [
    "import sklearn as sk"
   ]
  },
  {
   "cell_type": "code",
   "execution_count": 20,
   "metadata": {},
   "outputs": [],
   "source": [
    "import tensorflow as tf"
   ]
  },
  {
   "cell_type": "code",
   "execution_count": 21,
   "metadata": {},
   "outputs": [
    {
     "name": "stdout",
     "output_type": "stream",
     "text": [
      "0\n",
      "1\n",
      "1\n",
      "2\n",
      "3\n",
      "5\n",
      "8\n",
      "13\n",
      "21\n",
      "34\n",
      "55\n",
      "89\n",
      "144\n"
     ]
    }
   ],
   "source": [
    "#Exercise\n",
    "#create a function that reports the fibonacci sequence for n+3 numbers\n",
    "\n",
    "def fib(n):\n",
    "    a = 0\n",
    "    b = 1\n",
    "    for i in range(n+3):\n",
    "        print(a)\n",
    "        a,b = b,a+b\n",
    "\n",
    "fib(10)"
   ]
  },
  {
   "cell_type": "code",
   "execution_count": 22,
   "metadata": {},
   "outputs": [
    {
     "name": "stdout",
     "output_type": "stream",
     "text": [
      "1\n",
      "3\n",
      "5\n",
      "7\n",
      "9\n"
     ]
    }
   ],
   "source": [
    "#continue\n",
    "\n",
    "for i in range(10):\n",
    "    if i%2 == 0:\n",
    "        continue\n",
    "    print(i)"
   ]
  },
  {
   "cell_type": "code",
   "execution_count": 23,
   "metadata": {},
   "outputs": [
    {
     "name": "stdout",
     "output_type": "stream",
     "text": [
      "10\n",
      "9\n",
      "8\n",
      "7\n",
      "6\n",
      "5\n",
      "4\n",
      "3\n",
      "2\n",
      "1\n"
     ]
    }
   ],
   "source": [
    "#while loops\n",
    "\n",
    "counter = 10\n",
    "while counter > 0:\n",
    "    print(counter)\n",
    "    counter -= 1"
   ]
  },
  {
   "cell_type": "code",
   "execution_count": 25,
   "metadata": {},
   "outputs": [
    {
     "name": "stdout",
     "output_type": "stream",
     "text": [
      "9\n"
     ]
    }
   ],
   "source": [
    "#Exercise\n",
    "#Make a poisson-like counter\n",
    "#parameter lambda, positive number. ex- 10\n",
    "#start another number at 1 and multiply it by a random number drawn from a uniform distribution between 0 and 1\n",
    "#until target number is smaller than exp(-lambda)\n",
    "#create a counter that counts how many times the random number is multiplied by the uniform distribution\n",
    "\n",
    "import numpy as np\n",
    "\n",
    "def poisson(lamb):\n",
    "    target = np.exp(-lamb)\n",
    "    number = 1\n",
    "    counter = 0\n",
    "    while number > target:\n",
    "        number *= np.random.uniform(0,1)\n",
    "        counter += 1\n",
    "    return counter\n",
    "\n",
    "print(poisson(10))"
   ]
  },
  {
   "cell_type": "code",
   "execution_count": 26,
   "metadata": {},
   "outputs": [
    {
     "name": "stdout",
     "output_type": "stream",
     "text": [
      "[ 0.  1.  4.  9. 16. 25. 36. 49. 64. 81.]\n"
     ]
    }
   ],
   "source": [
    "#initialization\n",
    "import numpy as np\n",
    "r = np.zeros(10)\n",
    "\n",
    "for i in range(10):\n",
    "    r[i] = i**2\n",
    "print(r)"
   ]
  },
  {
   "cell_type": "code",
   "execution_count": 27,
   "metadata": {},
   "outputs": [],
   "source": [
    "r = [0 for _ in range(10)]"
   ]
  },
  {
   "cell_type": "code",
   "execution_count": 28,
   "metadata": {},
   "outputs": [
    {
     "name": "stdout",
     "output_type": "stream",
     "text": [
      "[0, 0, 0, 0, 0, 0, 0, 0, 0, 0]\n"
     ]
    }
   ],
   "source": [
    "print(r)"
   ]
  },
  {
   "cell_type": "code",
   "execution_count": 29,
   "metadata": {},
   "outputs": [],
   "source": [
    "r = np.full(10,0)"
   ]
  },
  {
   "cell_type": "code",
   "execution_count": 30,
   "metadata": {},
   "outputs": [
    {
     "data": {
      "text/plain": [
       "array([0, 0, 0, 0, 0, 0, 0, 0, 0, 0])"
      ]
     },
     "execution_count": 30,
     "metadata": {},
     "output_type": "execute_result"
    }
   ],
   "source": [
    "r"
   ]
  },
  {
   "cell_type": "code",
   "execution_count": 31,
   "metadata": {},
   "outputs": [
    {
     "data": {
      "text/plain": [
       "array([ 0.,  1.,  4.,  9., 16., 25., 36., 49., 64., 81.])"
      ]
     },
     "execution_count": 31,
     "metadata": {},
     "output_type": "execute_result"
    }
   ],
   "source": [
    "r = np.array([])\n",
    "\n",
    "for i in range(10):\n",
    "    r = np.append(r,i**2)\n",
    "\n",
    "r"
   ]
  },
  {
   "cell_type": "code",
   "execution_count": 32,
   "metadata": {},
   "outputs": [
    {
     "data": {
      "text/plain": [
       "array([[0., 0., 0., 0., 0.],\n",
       "       [0., 0., 0., 0., 0.],\n",
       "       [0., 0., 0., 0., 0.],\n",
       "       [0., 0., 0., 0., 0.]])"
      ]
     },
     "execution_count": 32,
     "metadata": {},
     "output_type": "execute_result"
    }
   ],
   "source": [
    "r = np.zeros((4,5))\n",
    "r"
   ]
  },
  {
   "cell_type": "code",
   "execution_count": 36,
   "metadata": {},
   "outputs": [
    {
     "name": "stdout",
     "output_type": "stream",
     "text": [
      "0.003290891647338867\n",
      "1.4604969024658203\n"
     ]
    }
   ],
   "source": [
    "#Exercise\n",
    "#Time all three methods of initialization\n",
    "\n",
    "import time\n",
    "\n",
    "start = time.time()\n",
    "r = np.zeros(100000000)\n",
    "end = time.time()\n",
    "\n",
    "print(end-start)\n",
    "\n",
    "start = time.time()\n",
    "r = [0 for _ in range(100000000)]\n",
    "end = time.time()\n",
    "\n",
    "print(end-start)\n",
    "\n"
   ]
  },
  {
   "cell_type": "code",
   "execution_count": 40,
   "metadata": {},
   "outputs": [
    {
     "name": "stdout",
     "output_type": "stream",
     "text": [
      "One or both inputs are not numbers\n"
     ]
    }
   ],
   "source": [
    "#Create a function that will input two numbers and return their product\n",
    "\n",
    "def product(x,y):\n",
    "    try:\n",
    "        if x > 0 and y > 0:\n",
    "\n",
    "            return x*y\n",
    "    except:\n",
    "        print(\"One or both inputs are not numbers\")\n",
    "product(5,\"hi\")"
   ]
  },
  {
   "cell_type": "code",
   "execution_count": 41,
   "metadata": {},
   "outputs": [
    {
     "ename": "Exception",
     "evalue": "One or both inputs are not numbers",
     "output_type": "error",
     "traceback": [
      "\u001b[0;31m---------------------------------------------------------------------------\u001b[0m",
      "\u001b[0;31mException\u001b[0m                                 Traceback (most recent call last)",
      "Cell \u001b[0;32mIn[41], line 7\u001b[0m\n\u001b[1;32m      4\u001b[0m     \u001b[39melse\u001b[39;00m:\n\u001b[1;32m      5\u001b[0m         \u001b[39mreturn\u001b[39;00m x\u001b[39m*\u001b[39my\n\u001b[0;32m----> 7\u001b[0m product(\u001b[39m5\u001b[39;49m,\u001b[39m\"\u001b[39;49m\u001b[39mhi\u001b[39;49m\u001b[39m\"\u001b[39;49m)\n",
      "Cell \u001b[0;32mIn[41], line 3\u001b[0m, in \u001b[0;36mproduct\u001b[0;34m(x, y)\u001b[0m\n\u001b[1;32m      1\u001b[0m \u001b[39mdef\u001b[39;00m \u001b[39mproduct\u001b[39m(x,y):\n\u001b[1;32m      2\u001b[0m     \u001b[39mif\u001b[39;00m \u001b[39mnot\u001b[39;00m \u001b[39misinstance\u001b[39m(x,\u001b[39mint\u001b[39m) \u001b[39mor\u001b[39;00m \u001b[39mnot\u001b[39;00m \u001b[39misinstance\u001b[39m(y,\u001b[39mint\u001b[39m):\n\u001b[0;32m----> 3\u001b[0m         \u001b[39mraise\u001b[39;00m \u001b[39mException\u001b[39;00m(\u001b[39m\"\u001b[39m\u001b[39mOne or both inputs are not numbers\u001b[39m\u001b[39m\"\u001b[39m)\n\u001b[1;32m      4\u001b[0m     \u001b[39melse\u001b[39;00m:\n\u001b[1;32m      5\u001b[0m         \u001b[39mreturn\u001b[39;00m x\u001b[39m*\u001b[39my\n",
      "\u001b[0;31mException\u001b[0m: One or both inputs are not numbers"
     ]
    }
   ],
   "source": [
    "def product(x,y):\n",
    "    if not isinstance(x,int) or not isinstance(y,int):\n",
    "        raise Exception(\"One or both inputs are not numbers\")\n",
    "    else:\n",
    "        return x*y\n",
    "    \n",
    "product(5,\"hi\")\n",
    "\n"
   ]
  },
  {
   "cell_type": "code",
   "execution_count": 42,
   "metadata": {},
   "outputs": [
    {
     "name": "stdout",
     "output_type": "stream",
     "text": [
      "1 a\n",
      "2 b\n",
      "3 c\n",
      "4 d\n",
      "5 e\n"
     ]
    }
   ],
   "source": [
    "#zip\n",
    "#zip takes two lists and combines them into a list of tuples\n",
    "\n",
    "someList = [1,2,3,4,5]\n",
    "someOtherList = [\"a\",\"b\",\"c\",\"d\",\"e\"]\n",
    "for i in range(len(someList)):\n",
    "    print(someList[i],someOtherList[i])\n"
   ]
  },
  {
   "cell_type": "code",
   "execution_count": 43,
   "metadata": {},
   "outputs": [
    {
     "name": "stdout",
     "output_type": "stream",
     "text": [
      "1 a\n",
      "2 b\n",
      "3 c\n",
      "4 d\n",
      "5 e\n"
     ]
    }
   ],
   "source": [
    "for j,k in zip(someList,someOtherList):\n",
    "    print(j,k)"
   ]
  },
  {
   "cell_type": "code",
   "execution_count": 45,
   "metadata": {},
   "outputs": [
    {
     "name": "stdout",
     "output_type": "stream",
     "text": [
      "{'John': 23, 'Mary': 45, 'Joe': 12, 'Sally': 67}\n"
     ]
    }
   ],
   "source": [
    "#Exercise\n",
    "#Create a function that takes two lists and returns a dictionary using zip\n",
    "\n",
    "names = [\"John\",\"Mary\",\"Joe\",\"Sally\"]\n",
    "ages = [23,45,12,67]\n",
    "aDict = {}\n",
    "for i,j in zip(names,ages):\n",
    "    aDict[i] = j\n",
    "print(aDict)"
   ]
  },
  {
   "cell_type": "code",
   "execution_count": null,
   "metadata": {},
   "outputs": [],
   "source": []
  }
 ],
 "metadata": {
  "kernelspec": {
   "display_name": "Python 3",
   "language": "python",
   "name": "python3"
  },
  "language_info": {
   "codemirror_mode": {
    "name": "ipython",
    "version": 3
   },
   "file_extension": ".py",
   "mimetype": "text/x-python",
   "name": "python",
   "nbconvert_exporter": "python",
   "pygments_lexer": "ipython3",
   "version": "3.11.3"
  },
  "orig_nbformat": 4
 },
 "nbformat": 4,
 "nbformat_minor": 2
}
