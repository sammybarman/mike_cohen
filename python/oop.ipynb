{
 "cells": [
  {
   "cell_type": "code",
   "execution_count": 7,
   "metadata": {},
   "outputs": [],
   "source": [
    "class Experiment(object):\n",
    "    def __init__(self, eType, dataN, status=\"ongoing\"):\n",
    "        self.expType = eType\n",
    "        self.dataCount = dataN\n",
    "        self.Currentstatus = status\n",
    "\n",
    "    def increaseN(self, number):\n",
    "        self.dataCount += number\n",
    "\n",
    "    def changeExperimentStatus(self, status):\n",
    "        self.Currentstatus = status\n",
    "\n",
    "    def __str__(self):\n",
    "        return \"Experiment type: %s, data count: %d, status: %s\" % (self.expType, self.dataCount, self.Currentstatus)\n",
    "    \n",
    "        "
   ]
  },
  {
   "cell_type": "code",
   "execution_count": 2,
   "metadata": {},
   "outputs": [],
   "source": [
    "Experiment1 = Experiment(\"Chemistry\", 100)"
   ]
  },
  {
   "cell_type": "code",
   "execution_count": 4,
   "metadata": {},
   "outputs": [
    {
     "data": {
      "text/plain": [
       "'Chemistry'"
      ]
     },
     "execution_count": 4,
     "metadata": {},
     "output_type": "execute_result"
    }
   ],
   "source": [
    "Experiment1.expType"
   ]
  },
  {
   "cell_type": "code",
   "execution_count": 6,
   "metadata": {},
   "outputs": [
    {
     "data": {
      "text/plain": [
       "300"
      ]
     },
     "execution_count": 6,
     "metadata": {},
     "output_type": "execute_result"
    }
   ],
   "source": [
    "Experiment1.increaseN(200)\n",
    "Experiment1.dataCount"
   ]
  },
  {
   "cell_type": "code",
   "execution_count": 8,
   "metadata": {},
   "outputs": [
    {
     "data": {
      "text/plain": [
       "'<__main__.Experiment object at 0x10b3cb550>'"
      ]
     },
     "execution_count": 8,
     "metadata": {},
     "output_type": "execute_result"
    }
   ],
   "source": [
    "Experiment1.__str__()"
   ]
  },
  {
   "cell_type": "code",
   "execution_count": 9,
   "metadata": {},
   "outputs": [
    {
     "name": "stdout",
     "output_type": "stream",
     "text": [
      "<__main__.Experiment object at 0x10b3cb550>\n"
     ]
    }
   ],
   "source": [
    "print(Experiment1)"
   ]
  },
  {
   "cell_type": "code",
   "execution_count": 10,
   "metadata": {},
   "outputs": [],
   "source": [
    "#Exercise 1: Create a class called MyCar. The class should have the following attributes: make, model, year, color, and mileage. Write a function called drive that prints a message about driving the car. Then create an instance called myCar from your class. Print the make, model, and year of your car. Then call the drive function.\n",
    "\n",
    "class MyCar(object):\n",
    "    def __init__(self, make, model, year, color, mileage):\n",
    "        self.make = make\n",
    "        self.model = model\n",
    "        self.year = year\n",
    "        self.color = color\n",
    "        self.mileage = mileage\n",
    "\n",
    "    def drive(self):\n",
    "        print(\"I am driving my car\")\n",
    "    \n",
    "    def __str__(self):\n",
    "        return \"Make: %s, model: %s, year: %d, color: %s, mileage: %d\" % (self.make, self.model, self.year, self.color, self.mileage)\n"
   ]
  },
  {
   "cell_type": "code",
   "execution_count": 12,
   "metadata": {},
   "outputs": [
    {
     "name": "stdout",
     "output_type": "stream",
     "text": [
      "Make: Toyota, model: Camry, year: 2015, color: Black, mileage: 10000\n"
     ]
    }
   ],
   "source": [
    "MyCar1 = MyCar(\"Toyota\", \"Camry\", 2015, \"Black\", 10000)\n",
    "print(MyCar1)"
   ]
  }
 ],
 "metadata": {
  "kernelspec": {
   "display_name": "Python 3",
   "language": "python",
   "name": "python3"
  },
  "language_info": {
   "codemirror_mode": {
    "name": "ipython",
    "version": 3
   },
   "file_extension": ".py",
   "mimetype": "text/x-python",
   "name": "python",
   "nbconvert_exporter": "python",
   "pygments_lexer": "ipython3",
   "version": "3.11.3"
  },
  "orig_nbformat": 4
 },
 "nbformat": 4,
 "nbformat_minor": 2
}
